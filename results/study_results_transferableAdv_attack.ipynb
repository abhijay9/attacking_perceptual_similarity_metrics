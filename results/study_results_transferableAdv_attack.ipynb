{
 "cells": [
  {
   "cell_type": "code",
   "execution_count": 2,
   "metadata": {},
   "outputs": [],
   "source": [
    "import pandas as pd\n",
    "import sys\n",
    "sys.path.append(\"../\")\n",
    "import util.path as paths\n",
    "import numpy as np\n",
    "\n",
    "DATAROOT = paths.BAPPS_dataset_path"
   ]
  },
  {
   "cell_type": "code",
   "execution_count": 3,
   "metadata": {},
   "outputs": [],
   "source": [
    "stlpipsAlex = pd.read_csv(\"transferableAdv_benchmark/stlpipsAlex_transferableAdv.csv\")\n",
    "ssim = pd.read_csv(\"transferableAdv_benchmark/ssim_transferableAdv.csv\")\n",
    "l2 = pd.read_csv(\"transferableAdv_benchmark/l2_transferableAdv.csv\")\n",
    "\n",
    "metrics = [l2, ssim, stlpipsAlex]\n",
    "metricNames = [\"l2\", \"ssim\", \"stlpipsAlex\"]"
   ]
  },
  {
   "cell_type": "code",
   "execution_count": 4,
   "metadata": {},
   "outputs": [],
   "source": [
    "h = []\n",
    "for m in metrics[0].iterrows():\n",
    "    distortion, id_ = m[1]['sample'].split(\"_\")\n",
    "    h.append(np.load(DATAROOT + 'val/' + distortion + '/judge/' + id_ + '.npy')[0])"
   ]
  },
  {
   "cell_type": "code",
   "execution_count": 8,
   "metadata": {},
   "outputs": [
    {
     "name": "stdout",
     "output_type": "stream",
     "text": [
      "l2 &2099/77\\% &101/5\\% &174/8\\% &77/4\\% &189/9\\% &257/12\\% \\\\ \n",
      "\n",
      "ssim &2093/77\\% &237/11\\% &442/21\\% &78/4\\% &339/16\\% &540/26\\% \\\\ \n",
      "\n",
      "stlpipsAlex &2470/91\\% &104/4\\% &198/8\\% &96/4\\% &205/8\\% &310/13\\% \\\\ \n",
      "\n"
     ]
    }
   ],
   "source": [
    "# with open('metricFinal_tmp.txt','w') as f:\n",
    "for i, metric in enumerate(metrics):\n",
    "    rank = (metric[\"d0\"]>metric[\"d1\"]).apply(lambda x: int(x))\n",
    "    metric[\"rank\"] = rank\n",
    "    metric[\"h\"] = h\n",
    "    \n",
    "    toPrint = metricNames[i]+\" &\"\n",
    "    \n",
    "    toPrint += str((metric[\"rank\"]==metric[\"h\"]).sum())+\"/\"+str(np.round(100.*(metric[\"rank\"]==metric[\"h\"]).sum()/len(metric)).astype(int))+\"\\% &\"\n",
    "\n",
    "    metric = metric[metric[\"rank\"]==metric[\"h\"]]\n",
    "\n",
    "    pgd = []\n",
    "    for row in metric.iterrows():\n",
    "        if row[1][\"rank\"]:\n",
    "            s_other = row[1][\"d0\"]\n",
    "        else:\n",
    "            s_other = row[1][\"d1\"]\n",
    "        if row[1][\"dPGD10\"]>s_other:\n",
    "            pgd.append(1)\n",
    "        else:\n",
    "            pgd.append(0)\n",
    "\n",
    "    toPrint += str(np.sum(pgd))+\"/\"+str(np.round(100*np.sum(pgd)/len(pgd)).astype(int))+\"\\% &\"\n",
    "    \n",
    "    pgd = []\n",
    "    for row in metric.iterrows():\n",
    "        if row[1][\"rank\"]:\n",
    "            s_other = row[1][\"d0\"]\n",
    "        else:\n",
    "            s_other = row[1][\"d1\"]\n",
    "        if row[1][\"dPGD20\"]>s_other:\n",
    "            pgd.append(1)\n",
    "        else:\n",
    "            pgd.append(0)\n",
    "\n",
    "    toPrint += str(np.sum(pgd))+\"/\"+str(np.round(100*np.sum(pgd)/len(pgd)).astype(int))+\"\\% &\"\n",
    "\n",
    "    stadv = []\n",
    "    for row in metric.iterrows():\n",
    "        if row[1][\"rank\"]:\n",
    "            s_other = row[1][\"d0\"]\n",
    "        else:\n",
    "            s_other = row[1][\"d1\"]\n",
    "        if row[1][\"dstAdv\"]>s_other:\n",
    "            stadv.append(1)\n",
    "        else:\n",
    "            stadv.append(0)\n",
    "    \n",
    "    toPrint += str(np.sum(stadv))+\"/\"+str(np.round(100*np.sum(stadv)/len(stadv)).astype(int))+\"\\% &\"\n",
    "\n",
    "#         ks = [5,10,15,20,25,30]\n",
    "    # ks = [5,10,15,20]\n",
    "    ks = [10,20]\n",
    "    for k in ks:\n",
    "        stadvpgd = []\n",
    "        for row in metric.iterrows():\n",
    "            if row[1][\"rank\"]:\n",
    "                s_other = row[1][\"d0\"]\n",
    "            else:\n",
    "                s_other = row[1][\"d1\"]\n",
    "            if row[1][\"dstAdvPGD\"+str(k)]>s_other:\n",
    "                stadvpgd.append(1)\n",
    "            else:\n",
    "                stadvpgd.append(0)\n",
    "        if k!=20:\n",
    "            toPrint += str(np.sum(stadvpgd))+\"/\"+str(np.round(100*np.sum(stadvpgd)/len(stadvpgd)).astype(int))+\"\\% &\"\n",
    "        else:\n",
    "            toPrint += str(np.sum(stadvpgd))+\"/\"+str(np.round(100*np.sum(stadvpgd)/len(stadvpgd)).astype(int))+\"\\%\"\n",
    "    toPrint += \" \\\\\\ \\n\"\n",
    "\n",
    "    # f.write(toPrint)\n",
    "    print(toPrint)"
   ]
  },
  {
   "cell_type": "code",
   "execution_count": null,
   "metadata": {},
   "outputs": [],
   "source": []
  }
 ],
 "metadata": {
  "kernelspec": {
   "display_name": "pyt4",
   "language": "python",
   "name": "python3"
  },
  "language_info": {
   "codemirror_mode": {
    "name": "ipython",
    "version": 3
   },
   "file_extension": ".py",
   "mimetype": "text/x-python",
   "name": "python",
   "nbconvert_exporter": "python",
   "pygments_lexer": "ipython3",
   "version": "3.9.13"
  },
  "orig_nbformat": 4
 },
 "nbformat": 4,
 "nbformat_minor": 2
}
