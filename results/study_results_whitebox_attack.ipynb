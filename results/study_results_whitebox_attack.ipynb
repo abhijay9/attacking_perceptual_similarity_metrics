{
 "cells": [
  {
   "cell_type": "code",
   "execution_count": null,
   "metadata": {},
   "outputs": [],
   "source": [
    "import pandas as pd\n",
    "import sys\n",
    "sys.path.append(\"../\")\n",
    "import util.path as paths\n",
    "import numpy as np\n",
    "\n",
    "DATAROOT = paths.BAPPS_dataset_path"
   ]
  },
  {
   "cell_type": "code",
   "execution_count": null,
   "metadata": {},
   "outputs": [],
   "source": [
    "metric = pd.read_csv(\"whitebox_attack/lpipsAlex_pgd.csv\")"
   ]
  },
  {
   "cell_type": "code",
   "execution_count": null,
   "metadata": {},
   "outputs": [],
   "source": [
    "h = []\n",
    "for m in metric.iterrows():\n",
    "    h.append(np.load(DATAROOT+m[1][\"path\"])[0])\n",
    "\n",
    "metric[\"h\"] = h"
   ]
  },
  {
   "cell_type": "code",
   "execution_count": null,
   "metadata": {},
   "outputs": [],
   "source": [
    "metric"
   ]
  },
  {
   "cell_type": "code",
   "execution_count": null,
   "metadata": {},
   "outputs": [],
   "source": [
    "total_samples_accurate = metric.loc[metric[\"h\"] == metric[\"orig_h\"], \"path\"].count()\n",
    "total_samples_not_accurate = metric.loc[metric[\"h\"] != metric[\"orig_h\"], \"path\"].count()\n",
    "print(\"Samples where rank by human and metric was the same (or accurate samples):\", total_samples_accurate)\n",
    "print(\"Samples where rank by human and metric was not the same (or not accurate samples):\", total_samples_not_accurate)"
   ]
  },
  {
   "cell_type": "code",
   "execution_count": null,
   "metadata": {},
   "outputs": [],
   "source": [
    "metric = metric.loc[metric[\"new_h\"] != metric[\"orig_h\"]]\n",
    "\n",
    "accurate_samples_flipped = metric.loc[metric[\"h\"] == metric[\"orig_h\"], \"path\"].count()\n",
    "not_accurate_samples_flipped = metric.loc[metric[\"h\"] != metric[\"orig_h\"], \"path\"].count()\n",
    "\n",
    "print(\"Accurate samples that flipped after attack:\", accurate_samples_flipped)\n",
    "print(\"Not accurate samples that flipped after attack:\", not_accurate_samples_flipped)"
   ]
  },
  {
   "cell_type": "code",
   "execution_count": null,
   "metadata": {},
   "outputs": [],
   "source": [
    "rmseMeanAccurateFlippedSamples = metric.loc[metric[\"h\"] == metric[\"orig_h\"],[\"rmse\"]].mean()\n",
    "rmseMeanNotAccurateFliipedSamples = metric.loc[metric[\"h\"] != metric[\"orig_h\"],[\"rmse\"]].mean()\n",
    "rmseStdAccurateFliipedSamples = metric.loc[metric[\"h\"] == metric[\"orig_h\"],[\"rmse\"]].std()\n",
    "rmseStdNotAccurateFliipedSamples = metric.loc[metric[\"h\"] != metric[\"orig_h\"],[\"rmse\"]].std()\n",
    "percPixelsWithEpsGreaterThan_AccurateFlippedSamples = metric.loc[metric[\"h\"] == metric[\"orig_h\"],[\"0.001\",\"0.01\",\"0.03\"]].mean().apply(lambda x: np.round(100*x,2))\n",
    "percPixelsWithEpsGreaterThan_NotAccurateFlippedSamples = metric.loc[metric[\"h\"] != metric[\"orig_h\"],[\"0.001\",\"0.01\",\"0.03\"]].mean().apply(lambda x: np.round(100*x,2))"
   ]
  },
  {
   "cell_type": "code",
   "execution_count": null,
   "metadata": {},
   "outputs": [],
   "source": [
    "rmseMeanAccurateFlippedSamples, rmseStdAccurateFliipedSamples"
   ]
  },
  {
   "cell_type": "code",
   "execution_count": null,
   "metadata": {},
   "outputs": [],
   "source": [
    "rmseMeanNotAccurateFliipedSamples, rmseStdNotAccurateFliipedSamples"
   ]
  },
  {
   "cell_type": "code",
   "execution_count": null,
   "metadata": {},
   "outputs": [],
   "source": [
    "percPixelsWithEpsGreaterThan_AccurateFlippedSamples"
   ]
  },
  {
   "cell_type": "code",
   "execution_count": null,
   "metadata": {},
   "outputs": [],
   "source": [
    "percPixelsWithEpsGreaterThan_NotAccurateFlippedSamples"
   ]
  }
 ],
 "metadata": {
  "kernelspec": {
   "display_name": "pyt4",
   "language": "python",
   "name": "python3"
  },
  "language_info": {
   "codemirror_mode": {
    "name": "ipython",
    "version": 3
   },
   "file_extension": ".py",
   "mimetype": "text/x-python",
   "name": "python",
   "nbconvert_exporter": "python",
   "pygments_lexer": "ipython3",
   "version": "3.9.13"
  },
  "orig_nbformat": 4
 },
 "nbformat": 4,
 "nbformat_minor": 2
}
